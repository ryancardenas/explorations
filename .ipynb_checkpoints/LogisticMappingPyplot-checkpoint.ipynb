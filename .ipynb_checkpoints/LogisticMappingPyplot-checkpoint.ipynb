{
 "cells": [
  {
   "cell_type": "code",
   "execution_count": 2,
   "metadata": {
    "scrolled": false
   },
   "outputs": [
    {
     "data": {
      "application/vnd.jupyter.widget-view+json": {
       "model_id": "e8b0c91757034b0aad433211d223f8a3",
       "version_major": 2,
       "version_minor": 0
      },
      "text/plain": [
       "interactive(children=(FloatSlider(value=3.5, continuous_update=False, description='view', layout=Layout(width=…"
      ]
     },
     "metadata": {},
     "output_type": "display_data"
    },
    {
     "data": {
      "text/plain": [
       "<function ipywidgets.widgets.interaction._InteractFactory.__call__.<locals>.<lambda>(*args, **kwargs)>"
      ]
     },
     "execution_count": 2,
     "metadata": {},
     "output_type": "execute_result"
    }
   ],
   "source": [
    "from ipywidgets import interact, widgets, Label, Layout\n",
    "import matplotlib.pyplot as plt\n",
    "import numpy as np\n",
    "plt.rcParams[\"figure.figsize\"] = 20,10\n",
    "\n",
    "class model(object):\n",
    "    def __init__(self):\n",
    "        self.xmin = 3.5\n",
    "        self.xmax = 4\n",
    "        self.ymin = 0\n",
    "        self.ymax = 1\n",
    "        self.dx = 0.00001\n",
    "        self.k_old = 0\n",
    "\n",
    "    def compute(self, view, width):\n",
    "        window = 0.001\n",
    "\n",
    "        self.xpts = np.arange(self.xmin, self.xmax, self.dx).repeat(10)\n",
    "        self.ypts = np.zeros(self.xpts.shape)\n",
    "\n",
    "        for i in range(self.xpts.size):\n",
    "            if self.ypts[i] == 0:\n",
    "                x = self.xpts[i] \n",
    "                y = 0.01\n",
    "                for iterations in range(200):\n",
    "                    y = x * y * (1 - y)\n",
    "                for j in range(10):\n",
    "                    y = x * y * (1 - y)\n",
    "                    self.ypts[i+j] = y\n",
    "    \n",
    "        vmin = view - width * self.dx / 2\n",
    "        vmax = view + width * self.dx / 2\n",
    "        indices = np.argwhere((self.xpts > vmin) & (self.xpts < vmax))\n",
    "        grid = plt.GridSpec(4, 4, hspace=0.2, wspace=0.2)\n",
    "        \n",
    "        fig, ax = plt.subplots()\n",
    "        plt.suptitle('Distribution of Logistic Map', fontsize=32)\n",
    "        plt.subplot(grid[:, 1:])\n",
    "        plt.xlabel(r'Parameter $\\lambda$', fontsize=18)\n",
    "        plt.minorticks_on()\n",
    "        plt.tick_params(which='minor', length=5)\n",
    "        plt.scatter(a.xpts, a.ypts, marker='.', s=1)\n",
    "        plt.axvline(x=view, color='orange')\n",
    "        plt.axvline(x=vmin, color='purple')\n",
    "        plt.axvline(x=vmax, color='purple')   \n",
    "        \n",
    "        plt.subplot(grid[:, 0])\n",
    "        plt.xlabel('Frequency', fontsize=18)\n",
    "        plt.ylabel('Output', fontsize=18)\n",
    "        plt.hist(self.ypts[indices], 100, range=(self.ymin, self.ymax),\n",
    "                 color='purple', orientation='horizontal', density=True)\n",
    "        plt.xlim(0,10)\n",
    "        a.fig = fig\n",
    "    \n",
    "a = model()\n",
    "style = Layout(width='95%')\n",
    "v = widgets.FloatSlider(value=a.xmin, min=a.xmin, max=a.xmax, step=a.dx, continuous_update=False, layout=style)\n",
    "w = widgets.IntSlider(value=100, min=100, max=((a.xmax-a.xmin)/a.dx), step=10, continuous_update=False, layout=style)\n",
    "interact(a.compute, view=v, width=w)"
   ]
  },
  {
   "cell_type": "code",
   "execution_count": 13,
   "metadata": {
    "scrolled": true
   },
   "outputs": [
    {
     "data": {
      "application/vnd.jupyter.widget-view+json": {
       "model_id": "0a9dff60734f415db3e228db65f7b863",
       "version_major": 2,
       "version_minor": 0
      },
      "text/plain": [
       "interactive(children=(FloatSlider(value=4.0, continuous_update=False, description='view', layout=Layout(width=…"
      ]
     },
     "metadata": {},
     "output_type": "display_data"
    },
    {
     "name": "stdout",
     "output_type": "stream",
     "text": [
      "images\\logistic_400.0.png\n"
     ]
    }
   ],
   "source": [
    "for i in np.arange(a.xmin, a.xmax+0.01, 0.01):\n",
    "    fn = 'images\\logistic_' + str(round(i*100,0)) + '.png'\n",
    "    v = widgets.FloatSlider(value=i, min=a.xmin, max=a.xmax, step=a.dx, continuous_update=False, layout=style)\n",
    "    interact(a.compute, view=v, width=w)\n",
    "    a.fig.savefig(fn)\n",
    "    print(fn)"
   ]
  },
  {
   "cell_type": "code",
   "execution_count": 6,
   "metadata": {},
   "outputs": [
    {
     "data": {
      "application/vnd.jupyter.widget-view+json": {
       "model_id": "64e00ddf4a984d729d8b52cb817fac79",
       "version_major": 2,
       "version_minor": 0
      },
      "text/plain": [
       "interactive(children=(Output(),), _dom_classes=('widget-interact',))"
      ]
     },
     "metadata": {},
     "output_type": "display_data"
    },
    {
     "data": {
      "text/plain": [
       "<function ipywidgets.widgets.interaction._InteractFactory.__call__.<locals>.<lambda>(*args, **kwargs)>"
      ]
     },
     "execution_count": 6,
     "metadata": {},
     "output_type": "execute_result"
    }
   ],
   "source": [
    "class model(object):\n",
    "    def __init__(self):\n",
    "        self.xmin = 3.5\n",
    "        self.xmax = 4\n",
    "        self.ymin = 0\n",
    "        self.ymax = 1\n",
    "        self.dx = 0.000003\n",
    "        self.k_old = 0\n",
    "        self.numpts = 100\n",
    "\n",
    "    def compute(self):\n",
    "        window = 0.001\n",
    "\n",
    "        self.xpts = np.arange(self.xmin, self.xmax, self.dx).repeat(self.numpts)\n",
    "        self.ypts = np.zeros(self.xpts.shape)\n",
    "\n",
    "        for i in range(self.xpts.size):\n",
    "            if self.ypts[i] == 0:\n",
    "                x = self.xpts[i] \n",
    "                y = 0.01\n",
    "                for iterations in range(2000):\n",
    "                    y = x * y * (1 - y)\n",
    "                for j in range(self.numpts):\n",
    "                    y = x * y * (1 - y)\n",
    "                    self.ypts[i+j] = y\n",
    "    \n",
    "        mydpi=100\n",
    "        savdpi = 300\n",
    "        plt.figure(figsize=(2400/mydpi, 1600/mydpi), dpi=mydpi)\n",
    "        plt.xlabel(r'Parameter $\\lambda$', fontsize=18)\n",
    "        plt.ylabel('Output', fontsize=18)\n",
    "        plt.minorticks_on()\n",
    "        plt.tick_params(which='minor', length=5)\n",
    "        plt.plot(a.xpts, a.ypts, marker=',', linestyle='none') \n",
    "#         plt.savefig('logisticHD.png', dpi=savdpi)\n",
    "    \n",
    "a = model()\n",
    "interact(a.compute)"
   ]
  },
  {
   "cell_type": "code",
   "execution_count": 22,
   "metadata": {},
   "outputs": [
    {
     "data": {
      "text/plain": [
       "15.0"
      ]
     },
     "execution_count": 22,
     "metadata": {},
     "output_type": "execute_result"
    }
   ],
   "source": [
    "1440/96"
   ]
  },
  {
   "cell_type": "code",
   "execution_count": null,
   "metadata": {},
   "outputs": [],
   "source": []
  }
 ],
 "metadata": {
  "kernelspec": {
   "display_name": "Python 3",
   "language": "python",
   "name": "python3"
  },
  "language_info": {
   "codemirror_mode": {
    "name": "ipython",
    "version": 3
   },
   "file_extension": ".py",
   "mimetype": "text/x-python",
   "name": "python",
   "nbconvert_exporter": "python",
   "pygments_lexer": "ipython3",
   "version": "3.6.8"
  }
 },
 "nbformat": 4,
 "nbformat_minor": 2
}
