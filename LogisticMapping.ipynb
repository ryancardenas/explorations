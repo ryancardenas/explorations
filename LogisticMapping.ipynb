{
 "cells": [
  {
   "cell_type": "code",
   "execution_count": 78,
   "metadata": {},
   "outputs": [
    {
     "data": {
      "application/vnd.jupyter.widget-view+json": {
       "model_id": "8a9ef37c78b44fabaf1546698a6cb964",
       "version_major": 2,
       "version_minor": 0
      },
      "text/plain": [
       "VBox(children=(interactive(children=(IntSlider(value=300, description='k', max=500, min=101), Output()), _dom_…"
      ]
     },
     "metadata": {},
     "output_type": "display_data"
    }
   ],
   "source": [
    "# nbi:hide_in\n",
    "import nbinteract as nbi\n",
    "import numpy as np\n",
    "\n",
    "class bifurcation(object):\n",
    "    def __init__(self):\n",
    "        self.xmin = 2.6\n",
    "        self.xmax = 4\n",
    "        self.ymin = 0\n",
    "        self.ymax = 1\n",
    "        \n",
    "    def xvals(self, k):\n",
    "#         k = 101\n",
    "        dx = 0.001\n",
    "        y = 0.01\n",
    "        self.xpts = np.arange(0)\n",
    "        self.ypts = np.arange(0)\n",
    "        \n",
    "        for x in np.arange(self.xmin, self.xmax, dx):\n",
    "            for i in range(k):\n",
    "                y = x * y * (1 - y)\n",
    "            self.xpts = np.append(self.xpts, x)\n",
    "            self.ypts = np.append(self.ypts, y)\n",
    "        \n",
    "        self.xpts = self.xpts[99:]\n",
    "        self.ypts = self.ypts[99:]\n",
    "        return self.xpts\n",
    "        \n",
    "    def yvals(self, foo):\n",
    "        return self.ypts\n",
    "    \n",
    "a = bifurcation()\n",
    "opts = {'title': 'Bifurcating Logistic Map',\n",
    "        'xlim': (a.xmin, a.xmax),\n",
    "        'ylim': (a.ymin, a.ymax),\n",
    "        'xlabel': 'X',\n",
    "        'ylabel': 'Y'}\n",
    "\n",
    "nbi.scatter(a.xvals, a.yvals, k=(101,500), options=opts)\n",
    "        "
   ]
  },
  {
   "cell_type": "code",
   "execution_count": null,
   "metadata": {},
   "outputs": [],
   "source": []
  }
 ],
 "metadata": {
  "kernelspec": {
   "display_name": "Python 3",
   "language": "python",
   "name": "python3"
  },
  "language_info": {
   "codemirror_mode": {
    "name": "ipython",
    "version": 3
   },
   "file_extension": ".py",
   "mimetype": "text/x-python",
   "name": "python",
   "nbconvert_exporter": "python",
   "pygments_lexer": "ipython3",
   "version": "3.6.8"
  }
 },
 "nbformat": 4,
 "nbformat_minor": 2
}
